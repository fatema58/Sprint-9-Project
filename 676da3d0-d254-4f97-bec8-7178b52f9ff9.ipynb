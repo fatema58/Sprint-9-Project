{
 "cells": [
  {
   "cell_type": "code",
   "execution_count": 1,
   "metadata": {},
   "outputs": [],
   "source": [
    "import pandas as pd\n",
    "import numpy as np\n",
    "import matplotlib.pyplot as plt\n",
    "import seaborn as sns\n",
    "import os\n",
    "from sklearn.linear_model import LinearRegression\n",
    "from sklearn.metrics import r2_score, mean_squared_error\n",
    "from sklearn.model_selection import train_test_split\n",
    "\n",
    "import warnings\n",
    "\n",
    "warnings.filterwarnings(\"ignore\", message=\"numpy.dtype size changed\")\n",
    "warnings.filterwarnings(\"ignore\", message=\"numpy.ufunc size changed\")\n",
    "pd.set_option('MAX_COLUMNS', None)"
   ]
  },
  {
   "cell_type": "markdown",
   "metadata": {},
   "source": [
    "# Step 1: Download and prepare the data\n"
   ]
  },
  {
   "cell_type": "code",
   "execution_count": 2,
   "metadata": {},
   "outputs": [],
   "source": [
    "# Load data for each region\n",
    "path = r'/datasets'\n",
    "datasets = ['geo_data_0.csv', 'geo_data_1.csv', 'geo_data_2.csv']"
   ]
  },
  {
   "cell_type": "code",
   "execution_count": 3,
   "metadata": {},
   "outputs": [],
   "source": [
    "# loop through the datasets\n",
    "# add a column to identify each dataset\n",
    "geo_data_df = pd.DataFrame()\n",
    "for i, dataset in enumerate(datasets):\n",
    "    df = pd.read_csv(os.path.join(path, dataset))\n",
    "    df['region'] = f'region{i+1}'\n",
    "    geo_data_df = pd.concat([geo_data_df, df], axis=0)"
   ]
  },
  {
   "cell_type": "code",
   "execution_count": 4,
   "metadata": {
    "scrolled": true
   },
   "outputs": [
    {
     "data": {
      "text/plain": [
       "(300000, 6)"
      ]
     },
     "execution_count": 4,
     "metadata": {},
     "output_type": "execute_result"
    }
   ],
   "source": [
    "# shape\n",
    "geo_data_df.shape"
   ]
  },
  {
   "cell_type": "code",
   "execution_count": 5,
   "metadata": {},
   "outputs": [
    {
     "data": {
      "text/html": [
       "<div>\n",
       "<style scoped>\n",
       "    .dataframe tbody tr th:only-of-type {\n",
       "        vertical-align: middle;\n",
       "    }\n",
       "\n",
       "    .dataframe tbody tr th {\n",
       "        vertical-align: top;\n",
       "    }\n",
       "\n",
       "    .dataframe thead th {\n",
       "        text-align: right;\n",
       "    }\n",
       "</style>\n",
       "<table border=\"1\" class=\"dataframe\">\n",
       "  <thead>\n",
       "    <tr style=\"text-align: right;\">\n",
       "      <th></th>\n",
       "      <th>id</th>\n",
       "      <th>f0</th>\n",
       "      <th>f1</th>\n",
       "      <th>f2</th>\n",
       "      <th>product</th>\n",
       "      <th>region</th>\n",
       "    </tr>\n",
       "  </thead>\n",
       "  <tbody>\n",
       "    <tr>\n",
       "      <th>0</th>\n",
       "      <td>txEyH</td>\n",
       "      <td>0.705745</td>\n",
       "      <td>-0.497823</td>\n",
       "      <td>1.221170</td>\n",
       "      <td>105.280062</td>\n",
       "      <td>region1</td>\n",
       "    </tr>\n",
       "    <tr>\n",
       "      <th>1</th>\n",
       "      <td>2acmU</td>\n",
       "      <td>1.334711</td>\n",
       "      <td>-0.340164</td>\n",
       "      <td>4.365080</td>\n",
       "      <td>73.037750</td>\n",
       "      <td>region1</td>\n",
       "    </tr>\n",
       "    <tr>\n",
       "      <th>2</th>\n",
       "      <td>409Wp</td>\n",
       "      <td>1.022732</td>\n",
       "      <td>0.151990</td>\n",
       "      <td>1.419926</td>\n",
       "      <td>85.265647</td>\n",
       "      <td>region1</td>\n",
       "    </tr>\n",
       "    <tr>\n",
       "      <th>3</th>\n",
       "      <td>iJLyR</td>\n",
       "      <td>-0.032172</td>\n",
       "      <td>0.139033</td>\n",
       "      <td>2.978566</td>\n",
       "      <td>168.620776</td>\n",
       "      <td>region1</td>\n",
       "    </tr>\n",
       "    <tr>\n",
       "      <th>4</th>\n",
       "      <td>Xdl7t</td>\n",
       "      <td>1.988431</td>\n",
       "      <td>0.155413</td>\n",
       "      <td>4.751769</td>\n",
       "      <td>154.036647</td>\n",
       "      <td>region1</td>\n",
       "    </tr>\n",
       "  </tbody>\n",
       "</table>\n",
       "</div>"
      ],
      "text/plain": [
       "      id        f0        f1        f2     product   region\n",
       "0  txEyH  0.705745 -0.497823  1.221170  105.280062  region1\n",
       "1  2acmU  1.334711 -0.340164  4.365080   73.037750  region1\n",
       "2  409Wp  1.022732  0.151990  1.419926   85.265647  region1\n",
       "3  iJLyR -0.032172  0.139033  2.978566  168.620776  region1\n",
       "4  Xdl7t  1.988431  0.155413  4.751769  154.036647  region1"
      ]
     },
     "execution_count": 5,
     "metadata": {},
     "output_type": "execute_result"
    }
   ],
   "source": [
    "# top 5 records\n",
    "geo_data_df.head()"
   ]
  },
  {
   "cell_type": "code",
   "execution_count": 6,
   "metadata": {},
   "outputs": [
    {
     "name": "stdout",
     "output_type": "stream",
     "text": [
      "<class 'pandas.core.frame.DataFrame'>\n",
      "Int64Index: 300000 entries, 0 to 99999\n",
      "Data columns (total 6 columns):\n",
      " #   Column   Non-Null Count   Dtype  \n",
      "---  ------   --------------   -----  \n",
      " 0   id       300000 non-null  object \n",
      " 1   f0       300000 non-null  float64\n",
      " 2   f1       300000 non-null  float64\n",
      " 3   f2       300000 non-null  float64\n",
      " 4   product  300000 non-null  float64\n",
      " 5   region   300000 non-null  object \n",
      "dtypes: float64(4), object(2)\n",
      "memory usage: 16.0+ MB\n"
     ]
    }
   ],
   "source": [
    "# dtypes\n",
    "geo_data_df.info()"
   ]
  },
  {
   "cell_type": "code",
   "execution_count": 7,
   "metadata": {
    "scrolled": true
   },
   "outputs": [
    {
     "data": {
      "text/plain": [
       "id         0\n",
       "f0         0\n",
       "f1         0\n",
       "f2         0\n",
       "product    0\n",
       "region     0\n",
       "dtype: int64"
      ]
     },
     "execution_count": 7,
     "metadata": {},
     "output_type": "execute_result"
    }
   ],
   "source": [
    "geo_data_df.isnull().sum()"
   ]
  },
  {
   "cell_type": "code",
   "execution_count": 8,
   "metadata": {
    "scrolled": true
   },
   "outputs": [
    {
     "data": {
      "text/plain": [
       "id         0\n",
       "f0         0\n",
       "f1         0\n",
       "f2         0\n",
       "product    0\n",
       "region     0\n",
       "dtype: int64"
      ]
     },
     "execution_count": 8,
     "metadata": {},
     "output_type": "execute_result"
    }
   ],
   "source": [
    "geo_data_df.isna().sum()"
   ]
  },
  {
   "cell_type": "code",
   "execution_count": 9,
   "metadata": {},
   "outputs": [
    {
     "data": {
      "text/plain": [
       "0"
      ]
     },
     "execution_count": 9,
     "metadata": {},
     "output_type": "execute_result"
    }
   ],
   "source": [
    "geo_data_df.duplicated().sum()"
   ]
  },
  {
   "cell_type": "code",
   "execution_count": 10,
   "metadata": {
    "scrolled": true
   },
   "outputs": [
    {
     "data": {
      "text/plain": [
       "49"
      ]
     },
     "execution_count": 10,
     "metadata": {},
     "output_type": "execute_result"
    }
   ],
   "source": [
    "geo_data_df['id'].duplicated().sum()"
   ]
  },
  {
   "cell_type": "code",
   "execution_count": 11,
   "metadata": {
    "scrolled": true
   },
   "outputs": [
    {
     "data": {
      "text/plain": [
       "region\n",
       "region1    10\n",
       "region2    14\n",
       "region3    25\n",
       "dtype: int64"
      ]
     },
     "execution_count": 11,
     "metadata": {},
     "output_type": "execute_result"
    }
   ],
   "source": [
    "# duplicate wells by source\n",
    "geo_data_df[geo_data_df['id'].duplicated()].groupby('region').size()"
   ]
  },
  {
   "cell_type": "code",
   "execution_count": 12,
   "metadata": {
    "scrolled": false
   },
   "outputs": [
    {
     "data": {
      "text/html": [
       "<div>\n",
       "<style scoped>\n",
       "    .dataframe tbody tr th:only-of-type {\n",
       "        vertical-align: middle;\n",
       "    }\n",
       "\n",
       "    .dataframe tbody tr th {\n",
       "        vertical-align: top;\n",
       "    }\n",
       "\n",
       "    .dataframe thead tr th {\n",
       "        text-align: left;\n",
       "    }\n",
       "\n",
       "    .dataframe thead tr:last-of-type th {\n",
       "        text-align: right;\n",
       "    }\n",
       "</style>\n",
       "<table border=\"1\" class=\"dataframe\">\n",
       "  <thead>\n",
       "    <tr>\n",
       "      <th></th>\n",
       "      <th colspan=\"8\" halign=\"left\">f0</th>\n",
       "      <th colspan=\"8\" halign=\"left\">f1</th>\n",
       "      <th colspan=\"8\" halign=\"left\">f2</th>\n",
       "      <th colspan=\"8\" halign=\"left\">product</th>\n",
       "    </tr>\n",
       "    <tr>\n",
       "      <th></th>\n",
       "      <th>count</th>\n",
       "      <th>mean</th>\n",
       "      <th>std</th>\n",
       "      <th>min</th>\n",
       "      <th>25%</th>\n",
       "      <th>50%</th>\n",
       "      <th>75%</th>\n",
       "      <th>max</th>\n",
       "      <th>count</th>\n",
       "      <th>mean</th>\n",
       "      <th>std</th>\n",
       "      <th>min</th>\n",
       "      <th>25%</th>\n",
       "      <th>50%</th>\n",
       "      <th>75%</th>\n",
       "      <th>max</th>\n",
       "      <th>count</th>\n",
       "      <th>mean</th>\n",
       "      <th>std</th>\n",
       "      <th>min</th>\n",
       "      <th>25%</th>\n",
       "      <th>50%</th>\n",
       "      <th>75%</th>\n",
       "      <th>max</th>\n",
       "      <th>count</th>\n",
       "      <th>mean</th>\n",
       "      <th>std</th>\n",
       "      <th>min</th>\n",
       "      <th>25%</th>\n",
       "      <th>50%</th>\n",
       "      <th>75%</th>\n",
       "      <th>max</th>\n",
       "    </tr>\n",
       "    <tr>\n",
       "      <th>region</th>\n",
       "      <th></th>\n",
       "      <th></th>\n",
       "      <th></th>\n",
       "      <th></th>\n",
       "      <th></th>\n",
       "      <th></th>\n",
       "      <th></th>\n",
       "      <th></th>\n",
       "      <th></th>\n",
       "      <th></th>\n",
       "      <th></th>\n",
       "      <th></th>\n",
       "      <th></th>\n",
       "      <th></th>\n",
       "      <th></th>\n",
       "      <th></th>\n",
       "      <th></th>\n",
       "      <th></th>\n",
       "      <th></th>\n",
       "      <th></th>\n",
       "      <th></th>\n",
       "      <th></th>\n",
       "      <th></th>\n",
       "      <th></th>\n",
       "      <th></th>\n",
       "      <th></th>\n",
       "      <th></th>\n",
       "      <th></th>\n",
       "      <th></th>\n",
       "      <th></th>\n",
       "      <th></th>\n",
       "      <th></th>\n",
       "    </tr>\n",
       "  </thead>\n",
       "  <tbody>\n",
       "    <tr>\n",
       "      <th>region1</th>\n",
       "      <td>100000.0</td>\n",
       "      <td>0.500419</td>\n",
       "      <td>0.871832</td>\n",
       "      <td>-1.408605</td>\n",
       "      <td>-0.072580</td>\n",
       "      <td>0.502360</td>\n",
       "      <td>1.073581</td>\n",
       "      <td>2.362331</td>\n",
       "      <td>100000.0</td>\n",
       "      <td>0.250143</td>\n",
       "      <td>0.504433</td>\n",
       "      <td>-0.848218</td>\n",
       "      <td>-0.200881</td>\n",
       "      <td>0.250252</td>\n",
       "      <td>0.700646</td>\n",
       "      <td>1.343769</td>\n",
       "      <td>100000.0</td>\n",
       "      <td>2.502647</td>\n",
       "      <td>3.248248</td>\n",
       "      <td>-12.088328</td>\n",
       "      <td>0.287748</td>\n",
       "      <td>2.515969</td>\n",
       "      <td>4.715088</td>\n",
       "      <td>16.003790</td>\n",
       "      <td>100000.0</td>\n",
       "      <td>92.500</td>\n",
       "      <td>44.288691</td>\n",
       "      <td>0.0</td>\n",
       "      <td>56.497507</td>\n",
       "      <td>91.849972</td>\n",
       "      <td>128.564089</td>\n",
       "      <td>185.364347</td>\n",
       "    </tr>\n",
       "    <tr>\n",
       "      <th>region2</th>\n",
       "      <td>100000.0</td>\n",
       "      <td>1.141296</td>\n",
       "      <td>8.965932</td>\n",
       "      <td>-31.609576</td>\n",
       "      <td>-6.298551</td>\n",
       "      <td>1.153055</td>\n",
       "      <td>8.621015</td>\n",
       "      <td>29.421755</td>\n",
       "      <td>100000.0</td>\n",
       "      <td>-4.796579</td>\n",
       "      <td>5.119872</td>\n",
       "      <td>-26.358598</td>\n",
       "      <td>-8.267985</td>\n",
       "      <td>-4.813172</td>\n",
       "      <td>-1.332816</td>\n",
       "      <td>18.734063</td>\n",
       "      <td>100000.0</td>\n",
       "      <td>2.494541</td>\n",
       "      <td>1.703572</td>\n",
       "      <td>-0.018144</td>\n",
       "      <td>1.000021</td>\n",
       "      <td>2.011479</td>\n",
       "      <td>3.999904</td>\n",
       "      <td>5.019721</td>\n",
       "      <td>100000.0</td>\n",
       "      <td>68.825</td>\n",
       "      <td>45.944423</td>\n",
       "      <td>0.0</td>\n",
       "      <td>26.953261</td>\n",
       "      <td>57.085625</td>\n",
       "      <td>107.813044</td>\n",
       "      <td>137.945408</td>\n",
       "    </tr>\n",
       "    <tr>\n",
       "      <th>region3</th>\n",
       "      <td>100000.0</td>\n",
       "      <td>0.002023</td>\n",
       "      <td>1.732045</td>\n",
       "      <td>-8.760004</td>\n",
       "      <td>-1.162288</td>\n",
       "      <td>0.009424</td>\n",
       "      <td>1.158535</td>\n",
       "      <td>7.238262</td>\n",
       "      <td>100000.0</td>\n",
       "      <td>-0.002081</td>\n",
       "      <td>1.730417</td>\n",
       "      <td>-7.084020</td>\n",
       "      <td>-1.174820</td>\n",
       "      <td>-0.009482</td>\n",
       "      <td>1.163678</td>\n",
       "      <td>7.844801</td>\n",
       "      <td>100000.0</td>\n",
       "      <td>2.495128</td>\n",
       "      <td>3.473445</td>\n",
       "      <td>-11.970335</td>\n",
       "      <td>0.130359</td>\n",
       "      <td>2.484236</td>\n",
       "      <td>4.858794</td>\n",
       "      <td>16.739402</td>\n",
       "      <td>100000.0</td>\n",
       "      <td>95.000</td>\n",
       "      <td>44.749921</td>\n",
       "      <td>0.0</td>\n",
       "      <td>59.450441</td>\n",
       "      <td>94.925613</td>\n",
       "      <td>130.595027</td>\n",
       "      <td>190.029838</td>\n",
       "    </tr>\n",
       "  </tbody>\n",
       "</table>\n",
       "</div>"
      ],
      "text/plain": [
       "               f0                                                     \\\n",
       "            count      mean       std        min       25%       50%   \n",
       "region                                                                 \n",
       "region1  100000.0  0.500419  0.871832  -1.408605 -0.072580  0.502360   \n",
       "region2  100000.0  1.141296  8.965932 -31.609576 -6.298551  1.153055   \n",
       "region3  100000.0  0.002023  1.732045  -8.760004 -1.162288  0.009424   \n",
       "\n",
       "                                    f1                                 \\\n",
       "              75%        max     count      mean       std        min   \n",
       "region                                                                  \n",
       "region1  1.073581   2.362331  100000.0  0.250143  0.504433  -0.848218   \n",
       "region2  8.621015  29.421755  100000.0 -4.796579  5.119872 -26.358598   \n",
       "region3  1.158535   7.238262  100000.0 -0.002081  1.730417  -7.084020   \n",
       "\n",
       "                                                        f2            \\\n",
       "              25%       50%       75%        max     count      mean   \n",
       "region                                                                 \n",
       "region1 -0.200881  0.250252  0.700646   1.343769  100000.0  2.502647   \n",
       "region2 -8.267985 -4.813172 -1.332816  18.734063  100000.0  2.494541   \n",
       "region3 -1.174820 -0.009482  1.163678   7.844801  100000.0  2.495128   \n",
       "\n",
       "                                                                       \\\n",
       "              std        min       25%       50%       75%        max   \n",
       "region                                                                  \n",
       "region1  3.248248 -12.088328  0.287748  2.515969  4.715088  16.003790   \n",
       "region2  1.703572  -0.018144  1.000021  2.011479  3.999904   5.019721   \n",
       "region3  3.473445 -11.970335  0.130359  2.484236  4.858794  16.739402   \n",
       "\n",
       "          product                                                            \\\n",
       "            count    mean        std  min        25%        50%         75%   \n",
       "region                                                                        \n",
       "region1  100000.0  92.500  44.288691  0.0  56.497507  91.849972  128.564089   \n",
       "region2  100000.0  68.825  45.944423  0.0  26.953261  57.085625  107.813044   \n",
       "region3  100000.0  95.000  44.749921  0.0  59.450441  94.925613  130.595027   \n",
       "\n",
       "                     \n",
       "                max  \n",
       "region               \n",
       "region1  185.364347  \n",
       "region2  137.945408  \n",
       "region3  190.029838  "
      ]
     },
     "execution_count": 12,
     "metadata": {},
     "output_type": "execute_result"
    }
   ],
   "source": [
    "# 5 point summary by source\n",
    "geo_data_df.groupby('region').describe()\n"
   ]
  },
  {
   "cell_type": "markdown",
   "metadata": {},
   "source": [
    "Conclusion\n",
    "\n",
    "There are 300K observations in total, which is equally split across the 3 data sources. Since this is synthetic data, it makes no sense to interpret what each row represents. We can only say that it represent the observation for one oil well.\n",
    "\n",
    "There are 49 duplicates in total.\n",
    "\n",
    "The mean and std for f0 field in region1 and region3 are very tight compared with the same metrics and field in region2. A similar pattern is observed for f1 field. However, in f2, the deviation around the mean is lower for region2 than it is for region1 and region3. It seems to suggest that wells in region1 and region3 are similar; this can also be seen in the product capacity for region1 and region3, where the means appear to be relatively closer to one another than it is for the mean value in region2.\n",
    "\n",
    "Product volume ranges 0 to 190K."
   ]
  },
  {
   "cell_type": "markdown",
   "metadata": {},
   "source": [
    "# Prepare the data\n",
    "\n",
    "Remove the duplicate well ids. Since this is synthetic data, it shouldn't matter which of the duplicate wells are removed."
   ]
  },
  {
   "cell_type": "code",
   "execution_count": 13,
   "metadata": {},
   "outputs": [
    {
     "data": {
      "text/plain": [
       "(299951, 6)"
      ]
     },
     "execution_count": 13,
     "metadata": {},
     "output_type": "execute_result"
    }
   ],
   "source": [
    "geo_data_df = geo_data_df.drop_duplicates(subset='id')\n",
    "geo_data_df.shape"
   ]
  },
  {
   "cell_type": "markdown",
   "metadata": {},
   "source": [
    "## Plot the distribution of product by region"
   ]
  },
  {
   "cell_type": "code",
   "execution_count": 14,
   "metadata": {},
   "outputs": [],
   "source": [
    "def plot_grouped_histogram(df, key, grp='region', bins=20,\n",
    "                          title=None,\n",
    "                          figsize=(9, 7),\n",
    "                          alpha=0.8):\n",
    "    \"\"\"\n",
    "    Plot histogram of key by grouped field\n",
    "    \"\"\"\n",
    "    df.groupby(grp)[key].plot(kind='hist',\n",
    "                             bins=bins,\n",
    "                             title=title,\n",
    "                             figsize=figsize,\n",
    "                             alpha=alpha,\n",
    "                             histtype='stepfilled'\n",
    "                             )\n",
    "    plt.legend()\n",
    "    plt.show()"
   ]
  },
  {
   "cell_type": "code",
   "execution_count": 15,
   "metadata": {},
   "outputs": [
    {
     "data": {
      "image/png": "[encoded data removed]",
      "text/plain": [
       "<Figure size 648x504 with 1 Axes>"
      ]
     },
     "metadata": {
      "needs_background": "light"
     },
     "output_type": "display_data"
    }
   ],
   "source": [
    "plot_grouped_histogram(geo_data_df, 'product', grp='region', bins=20,\n",
    "                          title='Distribution of product capacity by region',\n",
    "                          figsize=(9, 7),\n",
    "                          alpha=0.8)\n"
   ]
  },
  {
   "cell_type": "markdown",
   "metadata": {},
   "source": [
    "The histogram plot confirms what we've observed in the numerical summary: region2 has a unique pattern - there are gaps, with intervals of ~13K each separating every succeeding observation. In addition, region2 has 2 peaks - first one is at 0 and the other at 138K.\n",
    "\n",
    "On the other hand, region1 and region3 are quite similar in their distribution"
   ]
  },
  {
   "cell_type": "code",
   "execution_count": 16,
   "metadata": {},
   "outputs": [
    {
     "data": {
      "image/png": "[encoded data removed]",
      "text/plain": [
       "<Figure size 648x504 with 1 Axes>"
      ]
     },
     "metadata": {
      "needs_background": "light"
     },
     "output_type": "display_data"
    }
   ],
   "source": [
    "plot_grouped_histogram(geo_data_df, 'f0', grp='region', bins=20,\n",
    "                          title='Distribution of f0 by region',\n",
    "                          figsize=(9, 7),\n",
    "                          alpha=0.5)"
   ]
  },
  {
   "cell_type": "markdown",
   "metadata": {},
   "source": [
    "region2 has a double hump. region3 has a very narrow distribution with most of the values close to 0. Relative to region 3, has a smaller peak, and it also has a narrow distribution, peaking close to 0."
   ]
  },
  {
   "cell_type": "code",
   "execution_count": 17,
   "metadata": {},
   "outputs": [
    {
     "data": {
      "image/png": "[encoded data removed]",
      "text/plain": [
       "<Figure size 648x504 with 1 Axes>"
      ]
     },
     "metadata": {
      "needs_background": "light"
     },
     "output_type": "display_data"
    }
   ],
   "source": [
    "plot_grouped_histogram(geo_data_df, 'f1', grp='region', bins=20,\n",
    "                          title='Distribution of f1 by region',\n",
    "                          figsize=(9, 7),\n",
    "                          alpha=0.5)"
   ]
  },
  {
   "cell_type": "markdown",
   "metadata": {},
   "source": [
    "region2 appears to be a normal distribution peaking below 0. region1 and region3 share a similar shaped distribution except for their heights, region3 is more peakier than region1, and is relatively wider than region1."
   ]
  },
  {
   "cell_type": "code",
   "execution_count": 18,
   "metadata": {},
   "outputs": [
    {
     "data": {
      "image/png": "[encoded data removed]",
      "text/plain": [
       "<Figure size 648x504 with 1 Axes>"
      ]
     },
     "metadata": {
      "needs_background": "light"
     },
     "output_type": "display_data"
    }
   ],
   "source": [
    "plot_grouped_histogram(geo_data_df, 'f2', grp='region', bins=20,\n",
    "                          title='Distribution of f2 by region',\n",
    "                          figsize=(9, 7),\n",
    "                          alpha=0.5)"
   ]
  },
  {
   "cell_type": "markdown",
   "metadata": {},
   "source": [
    "region1 and region3 are almost identical, and appear to be normally distributed. However, region2 appears to have gaps between observations; this is similar to what we have seen for product."
   ]
  },
  {
   "cell_type": "code",
   "execution_count": 19,
   "metadata": {},
   "outputs": [
    {
     "data": {
      "text/html": [
       "<div>\n",
       "<style scoped>\n",
       "    .dataframe tbody tr th:only-of-type {\n",
       "        vertical-align: middle;\n",
       "    }\n",
       "\n",
       "    .dataframe tbody tr th {\n",
       "        vertical-align: top;\n",
       "    }\n",
       "\n",
       "    .dataframe thead th {\n",
       "        text-align: right;\n",
       "    }\n",
       "</style>\n",
       "<table border=\"1\" class=\"dataframe\">\n",
       "  <thead>\n",
       "    <tr style=\"text-align: right;\">\n",
       "      <th></th>\n",
       "      <th>f0</th>\n",
       "      <th>f1</th>\n",
       "      <th>f2</th>\n",
       "      <th>product</th>\n",
       "    </tr>\n",
       "  </thead>\n",
       "  <tbody>\n",
       "    <tr>\n",
       "      <th>f0</th>\n",
       "      <td>1.000000</td>\n",
       "      <td>0.085508</td>\n",
       "      <td>-0.000879</td>\n",
       "      <td>-0.030447</td>\n",
       "    </tr>\n",
       "    <tr>\n",
       "      <th>f1</th>\n",
       "      <td>0.085508</td>\n",
       "      <td>1.000000</td>\n",
       "      <td>0.000022</td>\n",
       "      <td>0.137242</td>\n",
       "    </tr>\n",
       "    <tr>\n",
       "      <th>f2</th>\n",
       "      <td>-0.000879</td>\n",
       "      <td>0.000022</td>\n",
       "      <td>1.000000</td>\n",
       "      <td>0.533564</td>\n",
       "    </tr>\n",
       "    <tr>\n",
       "      <th>product</th>\n",
       "      <td>-0.030447</td>\n",
       "      <td>0.137242</td>\n",
       "      <td>0.533564</td>\n",
       "      <td>1.000000</td>\n",
       "    </tr>\n",
       "  </tbody>\n",
       "</table>\n",
       "</div>"
      ],
      "text/plain": [
       "               f0        f1        f2   product\n",
       "f0       1.000000  0.085508 -0.000879 -0.030447\n",
       "f1       0.085508  1.000000  0.000022  0.137242\n",
       "f2      -0.000879  0.000022  1.000000  0.533564\n",
       "product -0.030447  0.137242  0.533564  1.000000"
      ]
     },
     "execution_count": 19,
     "metadata": {},
     "output_type": "execute_result"
    }
   ],
   "source": [
    "# overall correlation\n",
    "geo_data_df.corr()"
   ]
  },
  {
   "cell_type": "code",
   "execution_count": 20,
   "metadata": {},
   "outputs": [
    {
     "data": {
      "text/html": [
       "<div>\n",
       "<style scoped>\n",
       "    .dataframe tbody tr th:only-of-type {\n",
       "        vertical-align: middle;\n",
       "    }\n",
       "\n",
       "    .dataframe tbody tr th {\n",
       "        vertical-align: top;\n",
       "    }\n",
       "\n",
       "    .dataframe thead th {\n",
       "        text-align: right;\n",
       "    }\n",
       "</style>\n",
       "<table border=\"1\" class=\"dataframe\">\n",
       "  <thead>\n",
       "    <tr style=\"text-align: right;\">\n",
       "      <th></th>\n",
       "      <th></th>\n",
       "      <th>f0</th>\n",
       "      <th>f1</th>\n",
       "      <th>f2</th>\n",
       "      <th>product</th>\n",
       "    </tr>\n",
       "    <tr>\n",
       "      <th>region</th>\n",
       "      <th></th>\n",
       "      <th></th>\n",
       "      <th></th>\n",
       "      <th></th>\n",
       "      <th></th>\n",
       "    </tr>\n",
       "  </thead>\n",
       "  <tbody>\n",
       "    <tr>\n",
       "      <th rowspan=\"4\" valign=\"top\">region1</th>\n",
       "      <th>f0</th>\n",
       "      <td>1.000000</td>\n",
       "      <td>-0.440717</td>\n",
       "      <td>-0.003211</td>\n",
       "      <td>0.143504</td>\n",
       "    </tr>\n",
       "    <tr>\n",
       "      <th>f1</th>\n",
       "      <td>-0.440717</td>\n",
       "      <td>1.000000</td>\n",
       "      <td>0.001764</td>\n",
       "      <td>-0.192351</td>\n",
       "    </tr>\n",
       "    <tr>\n",
       "      <th>f2</th>\n",
       "      <td>-0.003211</td>\n",
       "      <td>0.001764</td>\n",
       "      <td>1.000000</td>\n",
       "      <td>0.483631</td>\n",
       "    </tr>\n",
       "    <tr>\n",
       "      <th>product</th>\n",
       "      <td>0.143504</td>\n",
       "      <td>-0.192351</td>\n",
       "      <td>0.483631</td>\n",
       "      <td>1.000000</td>\n",
       "    </tr>\n",
       "    <tr>\n",
       "      <th rowspan=\"4\" valign=\"top\">region2</th>\n",
       "      <th>f0</th>\n",
       "      <td>1.000000</td>\n",
       "      <td>0.182278</td>\n",
       "      <td>-0.001821</td>\n",
       "      <td>-0.030534</td>\n",
       "    </tr>\n",
       "    <tr>\n",
       "      <th>f1</th>\n",
       "      <td>0.182278</td>\n",
       "      <td>1.000000</td>\n",
       "      <td>-0.002540</td>\n",
       "      <td>-0.010100</td>\n",
       "    </tr>\n",
       "    <tr>\n",
       "      <th>f2</th>\n",
       "      <td>-0.001821</td>\n",
       "      <td>-0.002540</td>\n",
       "      <td>1.000000</td>\n",
       "      <td>0.999397</td>\n",
       "    </tr>\n",
       "    <tr>\n",
       "      <th>product</th>\n",
       "      <td>-0.030534</td>\n",
       "      <td>-0.010100</td>\n",
       "      <td>0.999397</td>\n",
       "      <td>1.000000</td>\n",
       "    </tr>\n",
       "    <tr>\n",
       "      <th rowspan=\"4\" valign=\"top\">region3</th>\n",
       "      <th>f0</th>\n",
       "      <td>1.000000</td>\n",
       "      <td>0.000435</td>\n",
       "      <td>-0.000530</td>\n",
       "      <td>-0.001923</td>\n",
       "    </tr>\n",
       "    <tr>\n",
       "      <th>f1</th>\n",
       "      <td>0.000435</td>\n",
       "      <td>1.000000</td>\n",
       "      <td>0.000731</td>\n",
       "      <td>-0.001026</td>\n",
       "    </tr>\n",
       "    <tr>\n",
       "      <th>f2</th>\n",
       "      <td>-0.000530</td>\n",
       "      <td>0.000731</td>\n",
       "      <td>1.000000</td>\n",
       "      <td>0.445912</td>\n",
       "    </tr>\n",
       "    <tr>\n",
       "      <th>product</th>\n",
       "      <td>-0.001923</td>\n",
       "      <td>-0.001026</td>\n",
       "      <td>0.445912</td>\n",
       "      <td>1.000000</td>\n",
       "    </tr>\n",
       "  </tbody>\n",
       "</table>\n",
       "</div>"
      ],
      "text/plain": [
       "                       f0        f1        f2   product\n",
       "region                                                 \n",
       "region1 f0       1.000000 -0.440717 -0.003211  0.143504\n",
       "        f1      -0.440717  1.000000  0.001764 -0.192351\n",
       "        f2      -0.003211  0.001764  1.000000  0.483631\n",
       "        product  0.143504 -0.192351  0.483631  1.000000\n",
       "region2 f0       1.000000  0.182278 -0.001821 -0.030534\n",
       "        f1       0.182278  1.000000 -0.002540 -0.010100\n",
       "        f2      -0.001821 -0.002540  1.000000  0.999397\n",
       "        product -0.030534 -0.010100  0.999397  1.000000\n",
       "region3 f0       1.000000  0.000435 -0.000530 -0.001923\n",
       "        f1       0.000435  1.000000  0.000731 -0.001026\n",
       "        f2      -0.000530  0.000731  1.000000  0.445912\n",
       "        product -0.001923 -0.001026  0.445912  1.000000"
      ]
     },
     "execution_count": 20,
     "metadata": {},
     "output_type": "execute_result"
    }
   ],
   "source": [
    "# correlation by region\n",
    "geo_data_df.groupby('region').corr()"
   ]
  },
  {
   "cell_type": "markdown",
   "metadata": {},
   "source": [
    "Conclusion\n",
    "\n",
    "The plots for f0, f1 and f2 reveal that region1 and region3 share similar characteristics unlike region2 which appears to have different characteristics.\n",
    "\n",
    "The numbers appear to be normalized, so there is no need to scale them.\n",
    "\n",
    "In the overall correlation, oly f2 has a moderately strong correlation with product. However, when split by region, region2's f2 field is strongly positively correlated with product. For region1 and region2, their respective f2 has a similar positive correlation with product.\n",
    "\n",
    "In region1, f1 has a moderately strong negative correlation with f0. In region2, the correlation strength is slightly positively correlated. However, in region3, there seems to be no relation between f0, f1, and f2."
   ]
  },
  {
   "cell_type": "markdown",
   "metadata": {},
   "source": [
    "# Step 2: Train and test the model for each region"
   ]
  },
  {
   "cell_type": "code",
   "execution_count": 21,
   "metadata": {},
   "outputs": [],
   "source": [
    "def build_model(model, train_X, train_y, valid_X, valid_y):\n",
    "    \"\"\"\n",
    "    Build LinearRegression model\n",
    "    \"\"\"\n",
    "    model.fit(train_X, train_y)\n",
    "    preds = model.predict(valid_X)\n",
    "    rmse = np.sqrt(mean_squared_error(valid_y, preds))\n",
    "    score = r2_score(valid_y, preds)\n",
    "    return rmse, score, preds.mean(), valid_y.mean(), preds"
   ]
  },
  {
   "cell_type": "code",
   "execution_count": 22,
   "metadata": {},
   "outputs": [],
   "source": [
    "results = {\n",
    "    'region': [],\n",
    "    'rmse': [],\n",
    "    'scores': [],\n",
    "    'mean_prediction': [],\n",
    "    'mean_target': []\n",
    "}\n",
    "preds_region, target_valid = [], []\n",
    "model = LinearRegression()\n",
    "regions = ['region1', 'region2', 'region3']\n",
    "for region in regions:\n",
    "    features = geo_data_df[geo_data_df['region'] == region].drop(['id', 'product', 'region'], axis=1)\n",
    "    target = geo_data_df[geo_data_df['region'] == region]['product']\n",
    "    train_X, valid_X, train_y, valid_y = train_test_split(features, target, test_size=0.25, random_state=42)\n",
    "    rmse, score, preds_mean, target_mean, preds = build_model(model, train_X, train_y, valid_X, valid_y)\n",
    "    results['region'].append(region)\n",
    "    results['rmse'].append(rmse)\n",
    "    results['scores'].append(score)\n",
    "    results['mean_prediction'].append(preds_mean)\n",
    "    results['mean_target'].append(target_mean)\n",
    "    preds_region.append(preds)\n",
    "    target_valid.append(valid_y.values)"
   ]
  },
  {
   "cell_type": "code",
   "execution_count": 23,
   "metadata": {},
   "outputs": [
    {
     "data": {
      "text/html": [
       "<div>\n",
       "<style scoped>\n",
       "    .dataframe tbody tr th:only-of-type {\n",
       "        vertical-align: middle;\n",
       "    }\n",
       "\n",
       "    .dataframe tbody tr th {\n",
       "        vertical-align: top;\n",
       "    }\n",
       "\n",
       "    .dataframe thead th {\n",
       "        text-align: right;\n",
       "    }\n",
       "</style>\n",
       "<table border=\"1\" class=\"dataframe\">\n",
       "  <thead>\n",
       "    <tr style=\"text-align: right;\">\n",
       "      <th></th>\n",
       "      <th>region</th>\n",
       "      <th>rmse</th>\n",
       "      <th>scores</th>\n",
       "      <th>mean_prediction</th>\n",
       "      <th>mean_target</th>\n",
       "    </tr>\n",
       "  </thead>\n",
       "  <tbody>\n",
       "    <tr>\n",
       "      <th>0</th>\n",
       "      <td>region1</td>\n",
       "      <td>37.685089</td>\n",
       "      <td>0.274539</td>\n",
       "      <td>92.609840</td>\n",
       "      <td>92.388766</td>\n",
       "    </tr>\n",
       "    <tr>\n",
       "      <th>1</th>\n",
       "      <td>region2</td>\n",
       "      <td>0.886764</td>\n",
       "      <td>0.999628</td>\n",
       "      <td>68.861597</td>\n",
       "      <td>68.865447</td>\n",
       "    </tr>\n",
       "    <tr>\n",
       "      <th>2</th>\n",
       "      <td>region3</td>\n",
       "      <td>39.909545</td>\n",
       "      <td>0.205066</td>\n",
       "      <td>94.744142</td>\n",
       "      <td>94.977154</td>\n",
       "    </tr>\n",
       "  </tbody>\n",
       "</table>\n",
       "</div>"
      ],
      "text/plain": [
       "    region       rmse    scores  mean_prediction  mean_target\n",
       "0  region1  37.685089  0.274539        92.609840    92.388766\n",
       "1  region2   0.886764  0.999628        68.861597    68.865447\n",
       "2  region3  39.909545  0.205066        94.744142    94.977154"
      ]
     },
     "execution_count": 23,
     "metadata": {},
     "output_type": "execute_result"
    }
   ],
   "source": [
    "pd.DataFrame(results)"
   ]
  },
  {
   "cell_type": "markdown",
   "metadata": {},
   "source": [
    "The provided data appears to contain information about three regions, including the root mean squared error (RMSE), scores, mean prediction, and mean target for each region.\n",
    "\n",
    "Here's an analysis of the data:\n",
    "\n",
    "Region 1:\n",
    "RMSE: 37.685089\n",
    "Scores: 0.274539\n",
    "Mean Prediction: 92.609840\n",
    "Mean Target: 92.388766\n",
    "Region 1 has a relatively high RMSE, indicating that the model's predictions deviate from the actual targets by a significant margin on average. The scores are also moderate, suggesting that the model's performance may be acceptable but could be improved. The mean prediction and mean target are close, indicating that, on average, the model predicts values that are similar to the actual targets.\n",
    "Region 2:\n",
    "RMSE: 0.886764\n",
    "Scores: 0.999628\n",
    "Mean Prediction: 68.861597\n",
    "Mean Target: 68.865447\n",
    "Region 2 has a very low RMSE, indicating that the model's predictions closely match the actual targets. The scores are very high, suggesting that the model's performance is excellent. The mean prediction and mean target are also very close, indicating that the model predicts values very accurately.\n",
    "Region 3:\n",
    "RMSE: 39.909545\n",
    "Scores: 0.205066\n",
    "Mean Prediction: 94.744142\n",
    "Mean Target: 94.977154\n",
    "Similar to Region 1, Region 3 has a relatively high RMSE, indicating that the model's predictions deviate from the actual targets by a significant margin on average. The scores are low, suggesting that the model's performance may be poor. The mean prediction and mean target are close, indicating that, on average, the model predicts values that are similar to the actual targets.\n",
    "Overall, Region 2 seems to have the best model performance, with the lowest RMSE, highest scores, and predictions that closely match the actual targets. Regions 1 and 3, on the other hand, exhibit poorer model performance with higher RMSE values and lower scores."
   ]
  },
  {
   "cell_type": "markdown",
   "metadata": {},
   "source": [
    "# Step 3: Prepare for profit calculation\n",
    "\n",
    "Related conditions\n",
    "\n",
    "The budget for development of 200 oil wells is 100 USD million.\n",
    "One barrel of raw materials brings 4.5 USD of revenue The revenue from one unit of product is 4,500 dollars (volume of reserves is in thousand barrels)."
   ]
  },
  {
   "cell_type": "code",
   "execution_count": 24,
   "metadata": {},
   "outputs": [
    {
     "name": "stdout",
     "output_type": "stream",
     "text": [
      "Cost per well $500000\n",
      "Number of thousands of barrels to produce in new oil well 111.11111111111111 units\n"
     ]
    }
   ],
   "source": [
    "#Estimated profit calculation based on estimated production\n",
    "# $4.5 per barrel\n",
    "# 1 barrel = 1000 units\n",
    "revenue_per_barrel = 4.5\n",
    "revenue_per_1000_barrel = 4500\n",
    "budget = 100e6\n",
    "num_oil_wells = 200\n",
    "cost_per_well = budget / num_oil_wells\n",
    "print('Cost per well ${:.0f}'.format(cost_per_well))\n",
    "print('Number of thousands of barrels to produce in new oil well {} units'.format(cost_per_well / revenue_per_1000_barrel))"
   ]
  },
  {
   "cell_type": "markdown",
   "metadata": {},
   "source": [
    "At least 111K barrels of oil should be produced in order to be profitable in the new oil wells.\n",
    "\n",
    "This number is higher than the highest mean of all regions, which is ~95K barrels produced in region3."
   ]
  },
  {
   "cell_type": "code",
   "execution_count": 25,
   "metadata": {},
   "outputs": [
    {
     "name": "stdout",
     "output_type": "stream",
     "text": [
      "Profit for region1 is $34,685,298\n",
      "Profit for region2 is $24,150,867\n",
      "Profit for region3 is $25,529,537\n"
     ]
    }
   ],
   "source": [
    "#Estimated profit calculation for top 200 oil wells based on model predictions\n",
    "def profit_calculation(target, prediction, num_wells=200, budget=100e6, \n",
    "                      revenue_per_barrel=4.5):\n",
    "    \"\"\"\n",
    "    Compute the profit for each region\n",
    "    based on the model's prediction for each\n",
    "    region's capacity\n",
    "    \"\"\"\n",
    "    top_wells_idx = prediction.argsort()[::-1]\n",
    "    total_produced = target[top_wells_idx][:num_wells].sum()\n",
    "    total_revenue = revenue_per_barrel * total_produced * 1000\n",
    "    return total_revenue - budget\n",
    "for i, (target, prediction) in enumerate(zip(target_valid, preds_region)):\n",
    "    print('Profit for region{} is ${:,.0f}'.format(i+1, \n",
    "                                        profit_calculation(target, prediction, num_wells=200, budget=100e6, \n",
    "                      revenue_per_barrel=4.5)\n",
    "                                    )\n",
    "         )\n"
   ]
  },
  {
   "cell_type": "markdown",
   "metadata": {},
   "source": [
    "Based on this analysis, we would conclude that it would be wise for the investors to build 200 oil wells in region1. However, from the RMSE values, we saw a lot of variability in production, which is around +/-38K barrels from the mean of 92K barrels.\n",
    "\n",
    "Minimum number of barrels to produce per 200 oil wells is 111K."
   ]
  },
  {
   "cell_type": "markdown",
   "metadata": {},
   "source": [
    "# Step 4: Write a function to calculate profit from a set of selected oil wells and model predictions\n"
   ]
  },
  {
   "cell_type": "code",
   "execution_count": 26,
   "metadata": {
    "scrolled": true
   },
   "outputs": [
    {
     "name": "stdout",
     "output_type": "stream",
     "text": [
      "          id        f0        f1        f2     product   region\n",
      "79705  UAhji -2.747914  1.555227  3.342182  190.029838  region3\n",
      "93444  IB0JE  3.026506  1.344623  8.891243  190.013589  region3\n",
      "35099  2HeCn  2.848844 -1.701996  9.437101  190.011722  region3\n",
      "21943  dldNH -2.500091  2.024392  6.291513  190.010982  region3\n",
      "37870  CpuBi -0.686667 -3.219452  5.963290  190.010029  region3\n"
     ]
    }
   ],
   "source": [
    "# Sort the DataFrame by the predicted values in descending order\n",
    "top_wells = geo_data_df.sort_values(by='product', ascending=False)\n",
    "\n",
    "# Select the top wells with the highest predicted values\n",
    "top_wells = top_wells.head()\n",
    "\n",
    "# Print the top wells\n",
    "print(top_wells)\n"
   ]
  },
  {
   "cell_type": "markdown",
   "metadata": {},
   "source": [
    "This DataFrame represents data for oil wells in different regions. Each row corresponds to an oil well, and the columns provide information about each well:\n",
    "\n",
    "id: Unique identifier for the oil well.\n",
    "f0, f1, f2: Features or characteristics of the oil well.\n",
    "product: The predicted volume of reserves in thousand barrels for the oil well.\n",
    "region: The region where the oil well is located.\n",
    "For example, the first row indicates that the oil well with ID UAhji is located in region3, and its features are f0 = -2.747914, f1 = 1.555227, and f2 = 3.342182. The predicted volume of reserves for this oil well is 190.029838 thousand barrels is the highest value of predicted barrels."
   ]
  },
  {
   "cell_type": "code",
   "execution_count": 27,
   "metadata": {},
   "outputs": [
    {
     "data": {
      "text/plain": [
       "region\n",
       "region1    9.249043e+06\n",
       "region2    6.881244e+06\n",
       "region3    9.497334e+06\n",
       "Name: product, dtype: float64"
      ]
     },
     "execution_count": 27,
     "metadata": {},
     "output_type": "execute_result"
    }
   ],
   "source": [
    "# Group the DataFrame by region and calculate the sum of predicted volumes for each region\n",
    "summary = geo_data_df.groupby('region')['product'].sum()\n",
    "\n",
    "# Display the summarized target volume of reserves\n",
    "summary"
   ]
  },
  {
   "cell_type": "markdown",
   "metadata": {},
   "source": [
    "Based on the summarized target volume of reserves:\n",
    "\n",
    "Region 1 has the highest predicted total volume of reserves, followed by Region 3 and then Region 2.\n",
    "Region 1 is a promising choice for oil wells' development due to its higher predicted reserves compared to the other regions.\n",
    "Developing oil wells in Region 1 could potentially yield a higher output of oil, leading to greater profitability and returns on investment.\n",
    "Therefore, I would recommend selecting Region 1 for oil wells' development, as it appears to offer the most promising opportunity based on the predicted volume of reserves."
   ]
  },
  {
   "cell_type": "code",
   "execution_count": 28,
   "metadata": {},
   "outputs": [
    {
     "name": "stdout",
     "output_type": "stream",
     "text": [
      "Profit for Region 1: -58379306.5\n"
     ]
    }
   ],
   "source": [
    "# Given data\n",
    "volume_region1 = 9_249_043  # Volume of reserves in Region 1\n",
    "revenue_per_unit = 4.5  # Revenue per unit (1 barrel of oil brings $4.5 of revenue)\n",
    "development_cost = 100_000_000  # Development cost for 200 oil wells\n",
    "\n",
    "# Calculate revenue\n",
    "revenue_region1 = volume_region1 * revenue_per_unit\n",
    "\n",
    "# Calculate profit\n",
    "profit_region1 = revenue_region1 - development_cost\n",
    "\n",
    "print(\"Profit for Region 1:\", profit_region1)\n"
   ]
  },
  {
   "cell_type": "markdown",
   "metadata": {},
   "source": [
    "The calculated profit for Region 1 is negative, indicating a loss of $58,379,306.50. This suggests that developing oil wells in Region 1 would not be financially viable given the current volume of reserves, revenue per unit, and development cost.\n",
    "\n",
    "Based on this analysis, it would be advisable to explore other regions for oil well development where the potential for profitability is higher. Alternatively, further exploration and assessment of potential reserves in Region 1 may be necessary to reassess its viability for oil extraction."
   ]
  },
  {
   "cell_type": "markdown",
   "metadata": {},
   "source": [
    "## Step 5: Calculate risks and profit for each region\n",
    "\n",
    "Criteria\n",
    "\n",
    "When exploring the region, a study of 500 points is carried with picking the best 200 points for the profit calculation.\n",
    "After the risk evaluation, keep only the regions with the risk of losses lower than 2.5%. From the ones that fit the criteria, the region with the highest average profit should be selected.\n",
    "Find average profit, 95% confidence interval and risk of losses.\n"
   ]
  },
  {
   "cell_type": "code",
   "execution_count": 29,
   "metadata": {},
   "outputs": [],
   "source": [
    "def bootstrap_revenue_model(target, prediction, sample_size=500, \n",
    "                            num_wells=200, budget=100e6, \n",
    "                      revenue_per_barrel=4.5):\n",
    "    \"\"\"\n",
    "    Use bootstrap to estimate the profit for the 3 regions\n",
    "    \"\"\"\n",
    "    profits = []\n",
    "    random_state = np.random.RandomState(42)\n",
    "    for _ in range(1000):\n",
    "        target_subsample = pd.Series(target).sample(n=sample_size, random_state=random_state, replace=True)\n",
    "        profits.append(profit_calculation(target_subsample.values, prediction[target_subsample.index], num_wells=num_wells, budget=budget, \n",
    "                      revenue_per_barrel=revenue_per_barrel))\n",
    "    mean_profit = pd.Series(profits).mean()\n",
    "    profit_risk_lb = pd.Series(profits).quantile(0.025)\n",
    "    profit_risk_ub = pd.Series(profits).quantile(0.975)\n",
    "    losses = sum(pd.Series(profits) < 0) / len(profits)\n",
    "    return mean_profit, profit_risk_lb, profit_risk_ub, losses\n"
   ]
  },
  {
   "cell_type": "code",
   "execution_count": 30,
   "metadata": {},
   "outputs": [
    {
     "name": "stdout",
     "output_type": "stream",
     "text": [
      "Mean profit for region1 is $4,035,721 and profit ranges from $-1,376,900 to $9,028,483. Risk of loss is 6%\n",
      "Mean profit for region2 is $4,584,835 and profit ranges from $781,037 to $8,387,299. Risk of loss is 1%\n",
      "Mean profit for region3 is $3,762,702 and profit ranges from $-1,232,087 to $8,624,029. Risk of loss is 8%\n"
     ]
    }
   ],
   "source": [
    "ci = []\n",
    "for i, (target, prediction) in enumerate(zip(target_valid, preds_region)):\n",
    "    profit, lb, ub, losses = bootstrap_revenue_model(target, prediction, sample_size=500, \n",
    "                            num_wells=200, budget=100e6, revenue_per_barrel=4.5)\n",
    "    print('Mean profit for region{} is ${:,.0f} and profit ranges from ${:,.0f} to ${:,.0f}. Risk of loss is {:.0%}'.format(i+1, \n",
    "                                       profit, lb, ub, losses\n",
    "                             )\n",
    "         )\n",
    "    ci.append((lb/1e6, ub/1e6))"
   ]
  },
  {
   "cell_type": "code",
   "execution_count": 31,
   "metadata": {
    "scrolled": false
   },
   "outputs": [
    {
     "data": {
      "image/png": "[encoded data removed]",
      "text/plain": [
       "<Figure size 432x288 with 1 Axes>"
      ]
     },
     "metadata": {
      "needs_background": "light"
     },
     "output_type": "display_data"
    }
   ],
   "source": [
    "#plot the 95% confidence intervals\n",
    "# Initialize ci_array\n",
    "ci_array = []\n",
    "fig, ax = plt.subplots()\n",
    "for i, (lb, ub) in enumerate(ci):\n",
    "    ci_array.append([i+1, lb])\n",
    "    ci_array.append([i+1, ub])\n",
    "    plt.vlines(x=i+1, ymin=lb, ymax=ub, color= 'r' if lb < 0 else 'g')\n",
    "plt.xticks(np.arange(1, len(ci)+1))\n",
    "plt.axhline(0)\n",
    "plt.title('95% Confidence Interval for all regions')\n",
    "plt.xlabel('Region')\n",
    "plt.ylabel('CI range')\n",
    "plt.ylim([-max(np.array(ci_array)[:, 1]), max(np.array(ci_array)[:, 1])])\n",
    "ax.spines['right'].set_visible(False)\n",
    "ax.spines['top'].set_visible(False)\n",
    "ax.spines['bottom'].set_visible(False)\n",
    "ax.spines['left'].set_visible(False)\n",
    "#ax.set_xticklabels([])\n",
    "plt.tight_layout()\n",
    "plt.show()"
   ]
  },
  {
   "cell_type": "markdown",
   "metadata": {},
   "source": [
    "Choosing Region 2 for the development of oil wells could be a sound decision for several reasons:\n",
    "\n",
    "Higher Average Profit: Region 2 has the highest average profit among the three regions, indicating that it may offer better potential returns on investment compared to Regions 0 and 1. This suggests that there may be more lucrative opportunities for oil extraction in Region 2.\n",
    "Stable Profit: The 95% confidence interval for the average profit in Region 2 is relatively narrow, indicating higher confidence in the estimated profit. This stability can provide assurance to investors regarding the expected returns from oil extraction activities in the region.\n",
    "No Risk of Losses: Similar to Regions 0 and 1, Region 2 also has no risk of losses, as indicated by the 0.0% risk of losses. This means that the calculated profit for Region 2 is unlikely to dip into negative territory, providing a sense of financial security for investors.\n",
    "\n",
    "\n",
    "However, it's important to consider potential drawbacks or limitations before finalizing the decision:\n",
    "\n",
    "Geological Factors: Despite having a higher average profit, Region 2 may present geological challenges or uncertainties that could affect the feasibility and profitability of oil extraction operations. Conducting a thorough geological survey and analysis is crucial to mitigate these risks.\n",
    "\n",
    "Regulatory Environment: The regulatory environment in Region 2, including environmental regulations and permitting processes, could impact the ease of conducting oil extraction activities. Ensuring compliance with regulations and obtaining necessary permits may require additional time and resources.\n",
    "\n",
    "Infrastructure and Logistics: Region 2 may have varying levels of infrastructure development and accessibility compared to other regions. Adequate infrastructure, such as transportation networks and facilities for oil processing and storage, is essential for the efficient operation of oil wells.\n",
    "\n",
    "In conclusion, while Region 2 appears to offer attractive financial prospects for oil well development based on the provided data, further analysis of geological, regulatory, and logistical factors is recommended to make an informed decision and mitigate potential risks."
   ]
  }
 ],
 "metadata": {
  "kernelspec": {
   "display_name": "Python 3 (ipykernel)",
   "language": "python",
   "name": "python3"
  },
  "language_info": {
   "codemirror_mode": {
    "name": "ipython",
    "version": 3
   },
   "file_extension": ".py",
   "mimetype": "text/x-python",
   "name": "python",
   "nbconvert_exporter": "python",
   "pygments_lexer": "ipython3",
   "version": "3.9.19"
  },
  "toc": {
   "base_numbering": 1,
   "nav_menu": {},
   "number_sections": true,
   "sideBar": true,
   "skip_h1_title": true,
   "title_cell": "Table of Contents",
   "title_sidebar": "Contents",
   "toc_cell": false,
   "toc_position": {},
   "toc_section_display": true,
   "toc_window_display": false
  }
 },
 "nbformat": 4,
 "nbformat_minor": 2
}
